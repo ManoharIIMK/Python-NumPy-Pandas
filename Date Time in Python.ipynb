{
 "cells": [
  {
   "cell_type": "code",
   "execution_count": 13,
   "metadata": {},
   "outputs": [
    {
     "name": "stdout",
     "output_type": "stream",
     "text": [
      "Python version:  3.7.3 (default, Mar 27 2019, 17:13:21) [MSC v.1915 64 bit (AMD64)]\n",
      "Version info.  sys.version_info(major=3, minor=7, micro=3, releaselevel='final', serial=0)\n"
     ]
    }
   ],
   "source": [
    "import sys\n",
    "print(\"Python version: \", sys.version)\n",
    "print(\"Version info. \", sys.version_info)"
   ]
  },
  {
   "cell_type": "code",
   "execution_count": 17,
   "metadata": {},
   "outputs": [],
   "source": [
    "import datetime\n"
   ]
  },
  {
   "cell_type": "code",
   "execution_count": 21,
   "metadata": {},
   "outputs": [
    {
     "name": "stdout",
     "output_type": "stream",
     "text": [
      "--------------------------\n",
      "2019-08-15 21:33:07.236435\n",
      "2019\n",
      "8\n",
      "15\n",
      "21\n",
      "33\n",
      "7\n"
     ]
    }
   ],
   "source": [
    "now = datetime.datetime.now()   # this must be in same cell to get exact info\n",
    "\n",
    "print (\"-\" * 26)   # print 26 '-'\n",
    "print (now)        # date time now\n",
    "print (now.year)   # current year\n",
    "print (now.month)  # curr month\n",
    "print (now.day)    # curr day\n",
    "print (now.hour)   # curr hour\n",
    "print (now.minute) # curr minute\n",
    "print (now.second) # curr sec"
   ]
  },
  {
   "cell_type": "code",
   "execution_count": 23,
   "metadata": {},
   "outputs": [
    {
     "name": "stdout",
     "output_type": "stream",
     "text": [
      "----------------------------------------------\n",
      "1 week ago was it:  2019-08-08 21:33:07.236435\n",
      "100 days ago was:  2019-05-07 21:33:07.236435\n",
      "1 week from now is it:  2019-08-22 21:33:07.236435\n",
      "In 1000 days from now is it:  2022-05-11 21:33:07.236435\n"
     ]
    }
   ],
   "source": [
    "print (\"-\" * 46)\n",
    "print (\"1 week ago was it: \", now - datetime.timedelta(weeks=1))              # past dates\n",
    "\n",
    "print (\"100 days ago was: \", now - datetime.timedelta(days=100))              # past dates\n",
    "\n",
    "print (\"1 week from now is it: \",  now + datetime.timedelta(weeks=1))         # future dates\n",
    "\n",
    "print (\"In 1000 days from now is it: \", now + datetime.timedelta(days=1000))  # Future dates"
   ]
  },
  {
   "cell_type": "code",
   "execution_count": null,
   "metadata": {},
   "outputs": [],
   "source": []
  }
 ],
 "metadata": {
  "kernelspec": {
   "display_name": "Python 3",
   "language": "python",
   "name": "python3"
  },
  "language_info": {
   "codemirror_mode": {
    "name": "ipython",
    "version": 3
   },
   "file_extension": ".py",
   "mimetype": "text/x-python",
   "name": "python",
   "nbconvert_exporter": "python",
   "pygments_lexer": "ipython3",
   "version": "3.7.3"
  }
 },
 "nbformat": 4,
 "nbformat_minor": 2
}
