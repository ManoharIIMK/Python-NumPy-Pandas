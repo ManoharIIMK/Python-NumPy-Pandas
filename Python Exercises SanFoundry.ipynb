{
 "cells": [
  {
   "cell_type": "markdown",
   "metadata": {},
   "source": [
    "### 1. Problem Description\n",
    "The program takes the elements of the list one by one and displays the average of the elements of the list.\n",
    "\n",
    "Problem Solution\n",
    "1.\tTake the number of elements to be stored in the list as input.\n",
    "2.\tUse a for loop to input elements into the list.\n",
    "3.\tCalculate the total sum of elements in the list.\n",
    "4.\tDivide the sum by total number of elements in the list.\n",
    "5.\tExit."
   ]
  },
  {
   "cell_type": "code",
   "execution_count": 3,
   "metadata": {},
   "outputs": [
    {
     "name": "stdout",
     "output_type": "stream",
     "text": [
      "Enter the number of elements to be inserted: 2\n",
      "Enter element: 7\n",
      "Enter element: 9\n",
      "Average of elements in the list 8.0\n"
     ]
    }
   ],
   "source": [
    "n=int(input(\"Enter the number of elements to be inserted: \"))\n",
    "a=[]\n",
    "for i in range(0,n):\n",
    "    elem=int(input(\"Enter element: \"))\n",
    "    a.append(elem)\n",
    "avg=sum(a)/n\n",
    "print(\"Average of elements in the list\",round(avg,2))"
   ]
  },
  {
   "cell_type": "markdown",
   "metadata": {},
   "source": [
    "### 2. Problem Description\n",
    "The program takes a number and reverses it.\n",
    "\n",
    "Problem Solution\n",
    "1.\tTake the value of the integer and store in a variable.\n",
    "2.\tUsing a while loop, get each digit of the number and store the reversed number in another variable.\n",
    "3.\tPrint the reverse of the number.\n",
    "4.\tExit."
   ]
  },
  {
   "cell_type": "code",
   "execution_count": 4,
   "metadata": {},
   "outputs": [
    {
     "name": "stdout",
     "output_type": "stream",
     "text": [
      "Enter number: whole number: 43\n",
      "Reverse of the number: 34\n"
     ]
    }
   ],
   "source": [
    "n=int(input(\"Enter number: whole number: \"))\n",
    "rev=0\n",
    "while(n>0):\n",
    "    dig=n%10\n",
    "    rev=rev*10+dig\n",
    "    n=n//10\n",
    "print(\"Reverse of the number:\",rev)"
   ]
  },
  {
   "cell_type": "markdown",
   "metadata": {},
   "source": [
    "### 3. Problem Description\n",
    "The program reads the height in centimeters and then converts the height to feet and inches.\n",
    "\n",
    "Problem Solution\n",
    "1.\tTake the height in centimeters and store it in a variable.\n",
    "2.\tConvert the height in centimeters into inches and feet.\n",
    "3.\tPrint the length in inches and feet.\n",
    "4.\tExit."
   ]
  },
  {
   "cell_type": "code",
   "execution_count": 5,
   "metadata": {},
   "outputs": [
    {
     "name": "stdout",
     "output_type": "stream",
     "text": [
      "Enter the height in centimeters:48\n",
      "The length in inches 18.91\n",
      "The length in feet 1.57\n"
     ]
    }
   ],
   "source": [
    "cm=int(input(\"Enter the height in centimeters:\"))\n",
    "inches=0.394*cm\n",
    "feet=0.0328*cm\n",
    "print(\"The length in inches\",round(inches,2))\n",
    "print(\"The length in feet\",round(feet,2))"
   ]
  },
  {
   "cell_type": "markdown",
   "metadata": {},
   "source": [
    "### 4. Problem Description\n",
    "The program takes in an integer and prints the smallest divisor of the integer.\n",
    "\n",
    "Problem Solution\n",
    "1.\tTake in an integer from the user.\n",
    "2.\tUse a for loop where the value of i ranges from 2 to the integer.\n",
    "3.\tIf the number is divisible by i, the value of i is appended to the list.\n",
    "4.\tThe list is then sorted and the smallest element is printed.\n",
    "5.\tExit."
   ]
  },
  {
   "cell_type": "code",
   "execution_count": 21,
   "metadata": {},
   "outputs": [
    {
     "name": "stdout",
     "output_type": "stream",
     "text": [
      "Enter an integer:35\n",
      "Smallest divisor is: 5\n"
     ]
    }
   ],
   "source": [
    "n=int(input(\"Enter an integer:\"))\n",
    "a=[]\n",
    "for i in range(2,n+1):\n",
    "    if(n%i==0):\n",
    "        a.append(i)\n",
    "a.sort()\n",
    "print(\"Smallest divisor is:\",a[0])"
   ]
  },
  {
   "cell_type": "markdown",
   "metadata": {},
   "source": [
    "### 5. Problem Description\n",
    "The program takes a number and generates all the divisors of the number.\n",
    "\n",
    "Problem Solution\n",
    "1.\tTake the value of the integer and store it in a variable.\n",
    "2.\tUse a for loop and if statement to generate the divisors of the integer.\n",
    "3.\tPrint the divisors of the number.\n",
    "4.\tExit."
   ]
  },
  {
   "cell_type": "code",
   "execution_count": 23,
   "metadata": {},
   "outputs": [
    {
     "name": "stdout",
     "output_type": "stream",
     "text": [
      "Enter an integer:16\n",
      "The divisors of the number are:\n",
      "[1, 2, 4, 8, 16]\n"
     ]
    },
    {
     "data": {
      "text/plain": [
       "5"
      ]
     },
     "execution_count": 23,
     "metadata": {},
     "output_type": "execute_result"
    }
   ],
   "source": [
    "n=int(input(\"Enter an integer:\"))\n",
    "print(\"The divisors of the number are:\")\n",
    "a=[]\n",
    "for i in range(1,n+1):\n",
    "    if(n%i==0):\n",
    "        a.append(i)\n",
    "print(a[:])\n",
    "len(a[:])"
   ]
  },
  {
   "cell_type": "markdown",
   "metadata": {},
   "source": [
    "### 6. Problem Description\n",
    "The program takes three distinct numbers and prints all possible combinations from the digits.\n",
    "\n",
    "Problem Solution\n",
    "1.\tTake in the first, second and third number and store it in separate variables.\n",
    "2.\tThen append all the three numbers to the list.\n",
    "3.\tUse three for loops and print the digits in the list if none of their indexes are equal to each other.\n",
    "4.\tExit."
   ]
  },
  {
   "cell_type": "code",
   "execution_count": 26,
   "metadata": {},
   "outputs": [
    {
     "name": "stdout",
     "output_type": "stream",
     "text": [
      "Enter first number:0\n",
      "Enter second number:1\n",
      "Enter third number:2\n",
      "0 1 2\n",
      "0 2 1\n",
      "1 0 2\n",
      "1 2 0\n",
      "2 0 1\n",
      "2 1 0\n"
     ]
    }
   ],
   "source": [
    "a=int(input(\"Enter first number:\"))\n",
    "b=int(input(\"Enter second number:\"))\n",
    "c=int(input(\"Enter third number:\"))\n",
    "d=[]\n",
    "d.append(a)\n",
    "d.append(b)\n",
    "d.append(c)\n",
    "for i in range(0,3):\n",
    "    for j in range(0,3):\n",
    "        for k in range(0,3):\n",
    "            if(i!=j&j!=k&k!=i):\n",
    "                print(d[i],d[j],d[k])"
   ]
  },
  {
   "cell_type": "markdown",
   "metadata": {},
   "source": [
    "### 7. Problem Description\n",
    "The program takes a number and checks if it is a strong number.\n",
    "\n",
    "Problem Solution\n",
    "1.\tTake in an integer and store it in a variable.\n",
    "2.\tUsing two while loops, find the factorial of each of the digits in the number.\n",
    "3.\tThen sum up all the factorials of the digits.\n",
    "4.\tCheck if the sum of the factorials of the digits is equal to the number.\n",
    "5.\tPrint the final result.\n",
    "6.\tExit."
   ]
  },
  {
   "cell_type": "markdown",
   "metadata": {},
   "source": [
    "### Prime number"
   ]
  },
  {
   "cell_type": "code",
   "execution_count": 21,
   "metadata": {},
   "outputs": [
    {
     "name": "stdout",
     "output_type": "stream",
     "text": [
      "Enter number: 5\n",
      "5 Number is prime\n"
     ]
    }
   ],
   "source": [
    "a=int(input(\"Enter number: \"))\n",
    "k=0\n",
    "for i in range(2,a//2+1):\n",
    "    if(a%i==0):\n",
    "        k=k+1\n",
    "if(k<=0):\n",
    "    print(a, \"Number is prime\")\n",
    "else:\n",
    "    print(a, \"Number isn't prime\")"
   ]
  },
  {
   "cell_type": "markdown",
   "metadata": {},
   "source": [
    "### 8. Problem Description\n",
    "The program takes a number and searches the number of times the particular number occurs in a list.\n",
    "\n",
    "Problem Solution\n",
    "1.\tTake in the number of elements for the first list and store it in a variable.\n",
    "2.\tTake in the elements of the list one by one.\n",
    "3.\tThen take in the number to be searched in the list.\n",
    "4.\tUse a for loop to traverse through the elements in the list and increment the count variable.\n",
    "5. Display the value of the count variable which contains the number of times a particular number occurs in a list.\n",
    "6.\tExit."
   ]
  },
  {
   "cell_type": "code",
   "execution_count": 27,
   "metadata": {},
   "outputs": [
    {
     "name": "stdout",
     "output_type": "stream",
     "text": [
      "Enter the number to be counted:0\n",
      "Number of times 0 appears is 5\n"
     ]
    }
   ],
   "source": [
    "a=[1,1,2,3,4,5,2,3,4,2,3,3,2,3,2,3,4,2,0,3,0,0,0,0,1,1,1,2,2,2,3,3,3,4]\n",
    "#n=int(input(\"Enter number of elements:\"))\n",
    "#for i in range(1,n+1):\n",
    "#    b=int(input(\"Enter element:\"))\n",
    "#    a.append(b)\n",
    "k=0\n",
    "num=int(input(\"Enter the number to be counted 0 to 5:\"))\n",
    "for i in a:\n",
    "    if(i==num):\n",
    "        k=k+1\n",
    "print(\"Number of times\",num,\"appears is\",k)"
   ]
  },
  {
   "cell_type": "markdown",
   "metadata": {},
   "source": [
    "### Problem Description\n",
    "The program takes a list and prints the largest number in the list."
   ]
  },
  {
   "cell_type": "code",
   "execution_count": 32,
   "metadata": {},
   "outputs": [
    {
     "name": "stdout",
     "output_type": "stream",
     "text": [
      "Enter number of elements:3\n",
      "Enter element:22\n",
      "Enter element:42\n",
      "Enter element:34\n",
      "Largest element is: 42\n",
      "smallest element is: 22\n",
      "[22, 34, 42]\n"
     ]
    }
   ],
   "source": [
    "a=[]\n",
    "n=int(input(\"Enter number of elements:\"))\n",
    "for i in range(1,n+1):\n",
    "    b=int(input(\"Enter element:\"))\n",
    "    a.append(b)\n",
    "a.sort()\n",
    "print(\"Largest element is:\",a[n-1])\n",
    "print(\"smallest element is:\",a[0])\n",
    "print(a)"
   ]
  },
  {
   "cell_type": "markdown",
   "metadata": {},
   "source": [
    "### Find 2nd largest number"
   ]
  },
  {
   "cell_type": "code",
   "execution_count": 33,
   "metadata": {},
   "outputs": [
    {
     "name": "stdout",
     "output_type": "stream",
     "text": [
      "Enter number of elements:5\n",
      "Enter element:22\n",
      "Enter element:34\n",
      "Enter element:23\n",
      "Enter element:25\n",
      "Enter element:26\n",
      "Second largest element is: 26\n"
     ]
    }
   ],
   "source": [
    "a=[]\n",
    "n=int(input(\"Enter number of elements:\"))\n",
    "for i in range(1,n+1):\n",
    "    b=int(input(\"Enter element:\"))\n",
    "    a.append(b)\n",
    "a.sort()\n",
    "print(\"Second largest element is:\",a[n-2])"
   ]
  },
  {
   "cell_type": "markdown",
   "metadata": {},
   "source": [
    "### Problem Description\n",
    "####  The program takes a list of tuples and sorts the list of tuples in increasing order by the last element in each tuple."
   ]
  },
  {
   "cell_type": "code",
   "execution_count": 2,
   "metadata": {},
   "outputs": [
    {
     "name": "stdout",
     "output_type": "stream",
     "text": [
      "Enter a list of tuples:2 4\n",
      "Sorted:\n",
      "[' ', '2', '4']\n"
     ]
    }
   ],
   "source": [
    "def last(n):\n",
    "    return n[-1]\n",
    " \n",
    "def sort(tuples):\n",
    "    return sorted(tuples, key=last)\n",
    " \n",
    "a=input(\"Enter a list of tuples:\")\n",
    "print(\"Sorted:\")\n",
    "print(sort(a))"
   ]
  },
  {
   "cell_type": "markdown",
   "metadata": {},
   "source": [
    "### The program removes all tuples in a list of tuples with the USN outside the given range."
   ]
  },
  {
   "cell_type": "code",
   "execution_count": 7,
   "metadata": {},
   "outputs": [
    {
     "name": "stdout",
     "output_type": "stream",
     "text": [
      "Enter lower roll number (starting with 12CS):43\n",
      "Enter upper roll number (starting with 12CS):22\n",
      "[('c', '12CS055'), ('d', '12CS100')]\n"
     ]
    }
   ],
   "source": [
    "y=[('a','12CS039'),('b','12CS320'),('c','12CS055'),('d','12CS100')]\n",
    "low=int(input(\"Enter lower roll number (starting with 12CS):\"))\n",
    "up=int(input(\"Enter upper roll number (starting with 12CS):\"))\n",
    "l='12CS0'+str(low)\n",
    "u='12CS'+str(up)\n",
    "p=[x for x in y if x[1]>l and x[1]<u]\n",
    "print(p)"
   ]
  },
  {
   "cell_type": "markdown",
   "metadata": {},
   "source": [
    "#### The program takes a string and removes the nth index character from the non-empty string."
   ]
  },
  {
   "cell_type": "code",
   "execution_count": 16,
   "metadata": {},
   "outputs": [
    {
     "name": "stdout",
     "output_type": "stream",
     "text": [
      "Enter the sring:sdsfsdfs\n",
      "Enter the index of the character to remove:0\n",
      "Modified string:\n",
      "dsfsdfs\n",
      "sdsfsdfs\n"
     ]
    }
   ],
   "source": [
    "def remove(string, n):  \n",
    "      first = string[:n]   \n",
    "      last = string[n+1:]\n",
    "      return first + last\n",
    "    \n",
    "string=input(\"Enter the sring:\")\n",
    "n=int(input(\"Enter the index of the character to remove:\"))\n",
    "\n",
    "print(\"Modified string:\")\n",
    "print(remove(string, n))\n",
    "print(string)"
   ]
  },
  {
   "cell_type": "markdown",
   "metadata": {},
   "source": [
    "#### The program takes a list of words and returns the word with the longest length."
   ]
  },
  {
   "cell_type": "code",
   "execution_count": 22,
   "metadata": {},
   "outputs": [
    {
     "name": "stdout",
     "output_type": "stream",
     "text": [
      "Enter the number of Words you want to enter:2\n",
      "Enter Word 1:my\n",
      "Enter Word 2:name\n",
      "The word with the longest length is: name\n"
     ]
    }
   ],
   "source": [
    "a=[]\n",
    "n= int(input(\"Enter the number of Words you want to enter:\"))\n",
    "for x in range(0,n):\n",
    "    element=input(\"Enter Word \" + str(x+1) + \":\")\n",
    "    a.append(element)\n",
    "    \n",
    "max1=len(a[0])\n",
    "temp=a[0]\n",
    "\n",
    "for i in a:\n",
    "    if(len(i)>max1):\n",
    "       max1=len(i)\n",
    "       temp=i\n",
    "print(\"The word with the longest length is:\", temp)"
   ]
  },
  {
   "cell_type": "markdown",
   "metadata": {},
   "source": [
    "#### The program takes a string and calculates the number of words and characters present in the string."
   ]
  },
  {
   "cell_type": "code",
   "execution_count": 26,
   "metadata": {},
   "outputs": [
    {
     "name": "stdout",
     "output_type": "stream",
     "text": [
      "Enter a string:I love python\n",
      "Number of words in the string:\n",
      "3\n",
      "Number of characters in the string:\n",
      "13\n"
     ]
    }
   ],
   "source": [
    "string=input(\"Enter a string:\")\n",
    "char=0\n",
    "word=1\n",
    "for i in string:\n",
    "      char=char+1\n",
    "      if(i==' '):\n",
    "            word=word+1\n",
    "print(\"Number of words in the string:\")\n",
    "print(word)\n",
    "print(\"Number of characters in the string:\")\n",
    "print(char)"
   ]
  },
  {
   "cell_type": "markdown",
   "metadata": {},
   "source": [
    "##### The program takes in two strings and display the larger string without using built-in function."
   ]
  },
  {
   "cell_type": "code",
   "execution_count": 28,
   "metadata": {},
   "outputs": [
    {
     "name": "stdout",
     "output_type": "stream",
     "text": [
      "Enter first string:I love Python\n",
      "Enter second string:My name is Eshwar\n",
      "Larger string is:\n",
      "My name is Eshwar\n"
     ]
    }
   ],
   "source": [
    "string1=input(\"Enter first string:\")\n",
    "string2=input(\"Enter second string:\")\n",
    "count1=0\n",
    "count2=0\n",
    "for i in string1:\n",
    "      count1=count1+1\n",
    "for j in string2:\n",
    "      count2=count2+1\n",
    "if(count1<count2):\n",
    "      print(\"Larger string is:\")\n",
    "      print(string2)\n",
    "elif(count1==count2):\n",
    "      print(\"Both strings are equal.\")\n",
    "else:\n",
    "      print(\"Larger string is:\")\n",
    "      print(string1)"
   ]
  },
  {
   "cell_type": "markdown",
   "metadata": {},
   "source": [
    "##### The program takes a string and counts the number of lowercase letters and uppercase letters in the string."
   ]
  },
  {
   "cell_type": "code",
   "execution_count": 29,
   "metadata": {},
   "outputs": [
    {
     "name": "stdout",
     "output_type": "stream",
     "text": [
      "Enter string:I love PYTHON\n",
      "The number of lowercase characters is:\n",
      "4\n",
      "The number of uppercase characters is:\n",
      "7\n"
     ]
    }
   ],
   "source": [
    "string=input(\"Enter string:\")\n",
    "count1=0\n",
    "count2=0\n",
    "for i in string:\n",
    "      if(i.islower()):\n",
    "            count1=count1+1\n",
    "      elif(i.isupper()):\n",
    "            count2=count2+1\n",
    "print(\"The number of lowercase characters is:\")\n",
    "print(count1)\n",
    "print(\"The number of uppercase characters is:\")\n",
    "print(count2)"
   ]
  },
  {
   "cell_type": "markdown",
   "metadata": {},
   "source": [
    "##### This is a Python Program to accept a hyphen separated sequence of words as input and print the words in a hyphen-separated sequence after sorting them alphabetically."
   ]
  },
  {
   "cell_type": "code",
   "execution_count": 30,
   "metadata": {},
   "outputs": [
    {
     "name": "stdout",
     "output_type": "stream",
     "text": [
      "Enter a hyphen separated sequence of words:\n",
      "red-green-blue-yellow\n",
      "Sorted:\n",
      "blue-green-red-yellow\n"
     ]
    }
   ],
   "source": [
    "print(\"Enter a hyphen separated sequence of words:\")\n",
    "lst=[n for n in input().split('-')]  \n",
    "lst.sort()\n",
    "print(\"Sorted:\")\n",
    "print('-'.join(lst))"
   ]
  },
  {
   "cell_type": "markdown",
   "metadata": {},
   "source": [
    "#### The program takes a string and forms a new string made of the first 2 characters and last 2 characters from a given string."
   ]
  },
  {
   "cell_type": "code",
   "execution_count": 31,
   "metadata": {},
   "outputs": [
    {
     "name": "stdout",
     "output_type": "stream",
     "text": [
      "Enter string:Hello World\n",
      "Newly formed string is:\n",
      "Held\n"
     ]
    }
   ],
   "source": [
    "string=input(\"Enter string:\")\n",
    "count=0\n",
    "for i in string:\n",
    "      count=count+1\n",
    "new=string[0:2]+string[count-2:count]\n",
    "print(\"Newly formed string is:\")\n",
    "print(new)"
   ]
  },
  {
   "cell_type": "markdown",
   "metadata": {},
   "source": [
    "#### The program takes a string and checks if a substring is present in the given string."
   ]
  },
  {
   "cell_type": "code",
   "execution_count": 34,
   "metadata": {},
   "outputs": [
    {
     "name": "stdout",
     "output_type": "stream",
     "text": [
      "Enter string:Hello world\n",
      "Enter word:hello\n",
      "Substring not found in string!\n"
     ]
    }
   ],
   "source": [
    "string=input(\"Enter string:\")\n",
    "sub_str=input(\"Enter word:\")\n",
    "if(string.find(sub_str)==-1):\n",
    "      print(\"Substring not found in string!\")\n",
    "else:\n",
    "      print(\"Substring found in string!\")"
   ]
  },
  {
   "cell_type": "markdown",
   "metadata": {},
   "source": [
    "#### The program takes a dictionary and multiplies all the items in the dictionary."
   ]
  },
  {
   "cell_type": "code",
   "execution_count": 36,
   "metadata": {},
   "outputs": [
    {
     "name": "stdout",
     "output_type": "stream",
     "text": [
      "2300\n"
     ]
    }
   ],
   "source": [
    "d={'A':10,'B':10,'C':23}  # Dictionary\n",
    "tot=1\n",
    "for i in d:    \n",
    "    tot=tot*d[i]\n",
    "print(tot)"
   ]
  },
  {
   "cell_type": "markdown",
   "metadata": {},
   "source": [
    "#### The program forms a dictionary from an object of a class."
   ]
  },
  {
   "cell_type": "code",
   "execution_count": 37,
   "metadata": {},
   "outputs": [
    {
     "name": "stdout",
     "output_type": "stream",
     "text": [
      "{'A': 1, 'B': 2}\n"
     ]
    }
   ],
   "source": [
    "class A(object):  \n",
    "     def __init__(self):  \n",
    "         self.A=1  \n",
    "         self.B=2  \n",
    "obj=A()  \n",
    "print(obj.__dict__)"
   ]
  },
  {
   "cell_type": "markdown",
   "metadata": {},
   "source": [
    "#### The program takes a number and determines whether a given number is even or odd recursively."
   ]
  },
  {
   "cell_type": "code",
   "execution_count": 39,
   "metadata": {},
   "outputs": [
    {
     "name": "stdout",
     "output_type": "stream",
     "text": [
      "Enter number:6\n",
      "Number is even!\n"
     ]
    }
   ],
   "source": [
    "def check(n):\n",
    "    if (n < 2):\n",
    "        return (n % 2 == 0)\n",
    "    return (check(n - 2))\n",
    "\n",
    "n=int(input(\"Enter number:\"))\n",
    "\n",
    "if(check(n)==True):\n",
    "      print(\"Number is even!\")\n",
    "else:\n",
    "      print(\"Number is odd!\")"
   ]
  },
  {
   "cell_type": "markdown",
   "metadata": {},
   "source": [
    "#### This is a Python Program to find the sum of elements in a list recursively."
   ]
  },
  {
   "cell_type": "code",
   "execution_count": null,
   "metadata": {},
   "outputs": [],
   "source": [
    "def sum_arr(arr,size):\n",
    "   if (size == 0):\n",
    "     return 0\n",
    "   else:\n",
    "     return arr[size-1] + sum_arr(arr,size-1)\n",
    "\n",
    "n=int(input(\"Enter the number of elements for list:\"))\n",
    "\n",
    "a=[]\n",
    "for i in range(0,n):\n",
    "    element=int(input(\"Enter element:\"))\n",
    "    a.append(element)\n",
    "    \n",
    "print(\"The list is:\")\n",
    "print(a)\n",
    "print(\"Sum of items in list:\")\n",
    "b=sum_arr(a,n)\n",
    "print(b)"
   ]
  },
  {
   "cell_type": "markdown",
   "metadata": {},
   "source": [
    "#### The program takes two numbers and finds the product of two numbers using recursion."
   ]
  },
  {
   "cell_type": "code",
   "execution_count": null,
   "metadata": {},
   "outputs": [],
   "source": [
    "def product(a,b):\n",
    "    if(a>b):\n",
    "        return product(b,a)\n",
    "    elif(b!=0):\n",
    "        return(a+product(a,b-1))\n",
    "    else:\n",
    "        return 0\n",
    "    \n",
    "a=int(input(\"Enter first number: \"))\n",
    "b=int(input(\"Enter second number: \"))\n",
    "print(\"Product is: \",product(a,b))"
   ]
  },
  {
   "cell_type": "markdown",
   "metadata": {},
   "source": [
    "#### This is a Python Program to reverse a string without using recursion."
   ]
  },
  {
   "cell_type": "code",
   "execution_count": null,
   "metadata": {},
   "outputs": [],
   "source": [
    "a=str(input(\"Enter a string: \"))\n",
    "\n",
    "print(\"Reverse of the string is: \")\n",
    "print(a[::-1])"
   ]
  },
  {
   "cell_type": "code",
   "execution_count": null,
   "metadata": {},
   "outputs": [],
   "source": [
    "#### his is a Python Program to find the factorial of a number without using recursion."
   ]
  },
  {
   "cell_type": "code",
   "execution_count": null,
   "metadata": {},
   "outputs": [],
   "source": [
    "n=int(input(\"Enter number:\"))\n",
    "fact=1\n",
    "while(n>0):\n",
    "    fact=fact*n\n",
    "    n=n-1\n",
    "print(\"Factorial of the number is: \")\n",
    "print(fact)"
   ]
  },
  {
   "cell_type": "code",
   "execution_count": null,
   "metadata": {},
   "outputs": [],
   "source": [
    "https://www.sanfoundry.com/python-program-find-intersection-two-lists/   - start again here"
   ]
  },
  {
   "cell_type": "code",
   "execution_count": null,
   "metadata": {},
   "outputs": [],
   "source": []
  }
 ],
 "metadata": {
  "kernelspec": {
   "display_name": "Python 3",
   "language": "python",
   "name": "python3"
  },
  "language_info": {
   "codemirror_mode": {
    "name": "ipython",
    "version": 3
   },
   "file_extension": ".py",
   "mimetype": "text/x-python",
   "name": "python",
   "nbconvert_exporter": "python",
   "pygments_lexer": "ipython3",
   "version": "3.7.3"
  }
 },
 "nbformat": 4,
 "nbformat_minor": 2
}
