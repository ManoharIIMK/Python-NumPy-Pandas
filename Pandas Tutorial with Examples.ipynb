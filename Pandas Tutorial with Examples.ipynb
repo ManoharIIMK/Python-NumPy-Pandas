{
 "cells": [
  {
   "cell_type": "markdown",
   "metadata": {},
   "source": [
    "#### What is Pandas?\n",
    "Pandas is an opensource library that allows to you perform data manipulation in Python. Pandas library is built on top of Numpy, meaning Pandas needs Numpy to operate. Pandas provide an easy way to create, manipulate and wrangle the data. Pandas is also an elegant solution for time series data.\n",
    "\n",
    "Data scientists use Pandas for its following advantages:\n",
    "\n",
    "Easily handles missing data\n",
    "\n",
    "    It uses Series for one-dimensional data structure and DataFrame for multi-dimensional data structure\n",
    "\n",
    "    It provides an efficient way to slice the data\n",
    "\n",
    "    It provides a flexible way to merge, concatenate or reshape the data\n",
    "\n",
    "    It includes a powerful time series tool to work with\n"
   ]
  },
  {
   "cell_type": "markdown",
   "metadata": {},
   "source": [
    "What is a data frame?\n",
    "A data frame is a two-dimensional array, with labeled axes (rows and columns). A data frame is a standard way to store data.\n",
    "\n",
    "Data frame is well-known by statistician and other data practitioners. A data frame is a tabular data, with rows to store the information and columns to name the information. For instance, the price can be the name of a column and 2,3,4 the price values."
   ]
  },
  {
   "cell_type": "code",
   "execution_count": 1,
   "metadata": {},
   "outputs": [
    {
     "data": {
      "text/plain": [
       "0    1.0\n",
       "1    2.0\n",
       "2    3.0\n",
       "dtype: float64"
      ]
     },
     "execution_count": 1,
     "metadata": {},
     "output_type": "execute_result"
    }
   ],
   "source": [
    "import pandas as pd\n",
    "pd.Series([1., 2., 3.])"
   ]
  },
  {
   "cell_type": "code",
   "execution_count": 2,
   "metadata": {},
   "outputs": [
    {
     "data": {
      "text/plain": [
       "a    1.0\n",
       "b    2.0\n",
       "c    3.0\n",
       "dtype: float64"
      ]
     },
     "execution_count": 2,
     "metadata": {},
     "output_type": "execute_result"
    }
   ],
   "source": [
    "# You can add the index with index. It helps to name the rows. \n",
    "# The length should be equal to the size of the column\n",
    "\n",
    "pd.Series([1., 2., 3.], index=['a', 'b', 'c'])"
   ]
  },
  {
   "cell_type": "code",
   "execution_count": 4,
   "metadata": {},
   "outputs": [
    {
     "data": {
      "text/plain": [
       "0    1.0\n",
       "1    2.0\n",
       "2    NaN\n",
       "dtype: float64"
      ]
     },
     "execution_count": 4,
     "metadata": {},
     "output_type": "execute_result"
    }
   ],
   "source": [
    "import numpy as np\n",
    "# Below, you create a Pandas series with a missing value for the third rows.\n",
    "#Note, missing values in Python are noted \"NaN.\" You can use numpy to create missing value: np.nan artificially\n",
    "\n",
    "pd.Series([1,2,np.nan])"
   ]
  },
  {
   "cell_type": "markdown",
   "metadata": {},
   "source": [
    "### Create Data frame\n",
    "You can convert a numpy array to a pandas data frame with pd.Data frame(). The opposite is also possible. To convert a pandas Data Frame to an array, you can use np.array()"
   ]
  },
  {
   "cell_type": "code",
   "execution_count": 6,
   "metadata": {},
   "outputs": [
    {
     "name": "stdout",
     "output_type": "stream",
     "text": [
      "Data Frame:    0  1\n",
      "0  1  2\n",
      "1  3  4\n",
      "Numpy array: [[1 2]\n",
      " [3 4]]\n"
     ]
    }
   ],
   "source": [
    "## Numpy to pandas\n",
    "import numpy as np\n",
    "\n",
    "h = [[1,2],[3,4]] \n",
    "df_h = pd.DataFrame(h)\n",
    "print('Data Frame:', df_h)\n",
    "\n",
    "    ## Pandas to numpy\n",
    "df_h_n = np.array(df_h)\n",
    "print('Numpy array:', df_h_n)\n",
    "    #Data Frame:    0  1\n",
    "    #0  1  2\n",
    "    #1  3  4\n",
    "    #Numpy array: [[1 2]\n",
    "    # [3 4]]"
   ]
  },
  {
   "cell_type": "code",
   "execution_count": 8,
   "metadata": {},
   "outputs": [
    {
     "data": {
      "text/html": [
       "<div>\n",
       "<style scoped>\n",
       "    .dataframe tbody tr th:only-of-type {\n",
       "        vertical-align: middle;\n",
       "    }\n",
       "\n",
       "    .dataframe tbody tr th {\n",
       "        vertical-align: top;\n",
       "    }\n",
       "\n",
       "    .dataframe thead th {\n",
       "        text-align: right;\n",
       "    }\n",
       "</style>\n",
       "<table border=\"1\" class=\"dataframe\">\n",
       "  <thead>\n",
       "    <tr style=\"text-align: right;\">\n",
       "      <th></th>\n",
       "      <th>Name</th>\n",
       "      <th>Age</th>\n",
       "    </tr>\n",
       "  </thead>\n",
       "  <tbody>\n",
       "    <tr>\n",
       "      <td>0</td>\n",
       "      <td>John</td>\n",
       "      <td>30</td>\n",
       "    </tr>\n",
       "    <tr>\n",
       "      <td>1</td>\n",
       "      <td>Smith</td>\n",
       "      <td>40</td>\n",
       "    </tr>\n",
       "  </tbody>\n",
       "</table>\n",
       "</div>"
      ],
      "text/plain": [
       "    Name  Age\n",
       "0   John   30\n",
       "1  Smith   40"
      ]
     },
     "execution_count": 8,
     "metadata": {},
     "output_type": "execute_result"
    }
   ],
   "source": [
    "# You can also use a dictionary to create a Pandas dataframe.\n",
    "\n",
    "dic = {'Name': [\"John\", \"Smith\"], 'Age': [30, 40]}\n",
    "pd.DataFrame(data=dic)"
   ]
  },
  {
   "cell_type": "markdown",
   "metadata": {},
   "source": [
    "Range Data\n",
    "Pandas have a convenient API to create a range of date                \n",
    "pd.data_range(date,period,frequency):                 \n",
    "       The first parameter is the starting date                    \n",
    "       The second parameter is the number of periods (optional if the end date is specified)                 \n",
    "       The last parameter is the frequency: day: 'D,' month: 'M' and year: 'Y.'            "
   ]
  },
  {
   "cell_type": "code",
   "execution_count": 9,
   "metadata": {},
   "outputs": [
    {
     "name": "stdout",
     "output_type": "stream",
     "text": [
      "Day: DatetimeIndex(['2030-01-01', '2030-01-02', '2030-01-03', '2030-01-04',\n",
      "               '2030-01-05', '2030-01-06'],\n",
      "              dtype='datetime64[ns]', freq='D')\n"
     ]
    }
   ],
   "source": [
    "## Create date\n",
    "# Days\n",
    "dates_d = pd.date_range('20300101', periods=6, freq='D')\n",
    "print('Day:', dates_d)"
   ]
  },
  {
   "cell_type": "code",
   "execution_count": 10,
   "metadata": {},
   "outputs": [
    {
     "name": "stdout",
     "output_type": "stream",
     "text": [
      "Month: DatetimeIndex(['2030-01-31', '2030-02-28', '2030-03-31', '2030-04-30',\n",
      "               '2030-05-31', '2030-06-30'],\n",
      "              dtype='datetime64[ns]', freq='M')\n"
     ]
    }
   ],
   "source": [
    "# Months\n",
    "dates_m = pd.date_range('20300101', periods=6, freq='M')\n",
    "print('Month:', dates_m)"
   ]
  },
  {
   "cell_type": "markdown",
   "metadata": {},
   "source": [
    "#### Inspecting data\n",
    "You can check the head or tail of the dataset with head(), or tail() preceded by the name of the panda's data frame"
   ]
  },
  {
   "cell_type": "code",
   "execution_count": 11,
   "metadata": {},
   "outputs": [],
   "source": [
    "# Step 1) Create a random sequence with numpy. The sequence has 4 columns and 6 rows\n",
    "\n",
    "random = np.random.randn(6,4)"
   ]
  },
  {
   "cell_type": "code",
   "execution_count": 12,
   "metadata": {},
   "outputs": [],
   "source": [
    "# Step 2) Then you create a data frame using pandas.\n",
    "#Use dates_m as an index for the data frame. It means each row will be given a \"name\" or an index, corresponding to a date.\n",
    "#Finally, you give a name to the 4 columns with the argument columns"
   ]
  },
  {
   "cell_type": "code",
   "execution_count": 13,
   "metadata": {},
   "outputs": [],
   "source": [
    "# Create data with date\n",
    "df = pd.DataFrame(random,\n",
    "                  index=dates_m,\n",
    "                  columns=list('ABCD'))"
   ]
  },
  {
   "cell_type": "code",
   "execution_count": 18,
   "metadata": {},
   "outputs": [
    {
     "data": {
      "text/html": [
       "<div>\n",
       "<style scoped>\n",
       "    .dataframe tbody tr th:only-of-type {\n",
       "        vertical-align: middle;\n",
       "    }\n",
       "\n",
       "    .dataframe tbody tr th {\n",
       "        vertical-align: top;\n",
       "    }\n",
       "\n",
       "    .dataframe thead th {\n",
       "        text-align: right;\n",
       "    }\n",
       "</style>\n",
       "<table border=\"1\" class=\"dataframe\">\n",
       "  <thead>\n",
       "    <tr style=\"text-align: right;\">\n",
       "      <th></th>\n",
       "      <th>A</th>\n",
       "      <th>B</th>\n",
       "      <th>C</th>\n",
       "      <th>D</th>\n",
       "    </tr>\n",
       "  </thead>\n",
       "  <tbody>\n",
       "    <tr>\n",
       "      <td>2030-01-31</td>\n",
       "      <td>0.088187</td>\n",
       "      <td>0.309553</td>\n",
       "      <td>-0.430135</td>\n",
       "      <td>1.331396</td>\n",
       "    </tr>\n",
       "    <tr>\n",
       "      <td>2030-02-28</td>\n",
       "      <td>3.039074</td>\n",
       "      <td>-0.057611</td>\n",
       "      <td>0.377823</td>\n",
       "      <td>1.717503</td>\n",
       "    </tr>\n",
       "    <tr>\n",
       "      <td>2030-03-31</td>\n",
       "      <td>-0.963206</td>\n",
       "      <td>1.916118</td>\n",
       "      <td>1.943762</td>\n",
       "      <td>-0.687879</td>\n",
       "    </tr>\n",
       "    <tr>\n",
       "      <td>2030-04-30</td>\n",
       "      <td>1.042479</td>\n",
       "      <td>-0.544763</td>\n",
       "      <td>0.977501</td>\n",
       "      <td>-1.673582</td>\n",
       "    </tr>\n",
       "    <tr>\n",
       "      <td>2030-05-31</td>\n",
       "      <td>0.679855</td>\n",
       "      <td>-0.998623</td>\n",
       "      <td>1.975864</td>\n",
       "      <td>0.325947</td>\n",
       "    </tr>\n",
       "    <tr>\n",
       "      <td>2030-06-30</td>\n",
       "      <td>0.543184</td>\n",
       "      <td>-0.910065</td>\n",
       "      <td>-1.029135</td>\n",
       "      <td>0.458066</td>\n",
       "    </tr>\n",
       "  </tbody>\n",
       "</table>\n",
       "</div>"
      ],
      "text/plain": [
       "                   A         B         C         D\n",
       "2030-01-31  0.088187  0.309553 -0.430135  1.331396\n",
       "2030-02-28  3.039074 -0.057611  0.377823  1.717503\n",
       "2030-03-31 -0.963206  1.916118  1.943762 -0.687879\n",
       "2030-04-30  1.042479 -0.544763  0.977501 -1.673582\n",
       "2030-05-31  0.679855 -0.998623  1.975864  0.325947\n",
       "2030-06-30  0.543184 -0.910065 -1.029135  0.458066"
      ]
     },
     "execution_count": 18,
     "metadata": {},
     "output_type": "execute_result"
    }
   ],
   "source": [
    "#Step 3) Display the data frame. Also can use head function df.head\n",
    "df.head(8)  # there are 6 rows only to display"
   ]
  },
  {
   "cell_type": "code",
   "execution_count": 19,
   "metadata": {},
   "outputs": [
    {
     "data": {
      "text/html": [
       "<div>\n",
       "<style scoped>\n",
       "    .dataframe tbody tr th:only-of-type {\n",
       "        vertical-align: middle;\n",
       "    }\n",
       "\n",
       "    .dataframe tbody tr th {\n",
       "        vertical-align: top;\n",
       "    }\n",
       "\n",
       "    .dataframe thead th {\n",
       "        text-align: right;\n",
       "    }\n",
       "</style>\n",
       "<table border=\"1\" class=\"dataframe\">\n",
       "  <thead>\n",
       "    <tr style=\"text-align: right;\">\n",
       "      <th></th>\n",
       "      <th>A</th>\n",
       "      <th>B</th>\n",
       "      <th>C</th>\n",
       "      <th>D</th>\n",
       "    </tr>\n",
       "  </thead>\n",
       "  <tbody>\n",
       "    <tr>\n",
       "      <td>2030-04-30</td>\n",
       "      <td>1.042479</td>\n",
       "      <td>-0.544763</td>\n",
       "      <td>0.977501</td>\n",
       "      <td>-1.673582</td>\n",
       "    </tr>\n",
       "    <tr>\n",
       "      <td>2030-05-31</td>\n",
       "      <td>0.679855</td>\n",
       "      <td>-0.998623</td>\n",
       "      <td>1.975864</td>\n",
       "      <td>0.325947</td>\n",
       "    </tr>\n",
       "    <tr>\n",
       "      <td>2030-06-30</td>\n",
       "      <td>0.543184</td>\n",
       "      <td>-0.910065</td>\n",
       "      <td>-1.029135</td>\n",
       "      <td>0.458066</td>\n",
       "    </tr>\n",
       "  </tbody>\n",
       "</table>\n",
       "</div>"
      ],
      "text/plain": [
       "                   A         B         C         D\n",
       "2030-04-30  1.042479 -0.544763  0.977501 -1.673582\n",
       "2030-05-31  0.679855 -0.998623  1.975864  0.325947\n",
       "2030-06-30  0.543184 -0.910065 -1.029135  0.458066"
      ]
     },
     "execution_count": 19,
     "metadata": {},
     "output_type": "execute_result"
    }
   ],
   "source": [
    "#Step 4) Using tail function\n",
    "\n",
    "df.tail(3)"
   ]
  },
  {
   "cell_type": "code",
   "execution_count": 20,
   "metadata": {},
   "outputs": [
    {
     "data": {
      "text/html": [
       "<div>\n",
       "<style scoped>\n",
       "    .dataframe tbody tr th:only-of-type {\n",
       "        vertical-align: middle;\n",
       "    }\n",
       "\n",
       "    .dataframe tbody tr th {\n",
       "        vertical-align: top;\n",
       "    }\n",
       "\n",
       "    .dataframe thead th {\n",
       "        text-align: right;\n",
       "    }\n",
       "</style>\n",
       "<table border=\"1\" class=\"dataframe\">\n",
       "  <thead>\n",
       "    <tr style=\"text-align: right;\">\n",
       "      <th></th>\n",
       "      <th>A</th>\n",
       "      <th>B</th>\n",
       "      <th>C</th>\n",
       "      <th>D</th>\n",
       "    </tr>\n",
       "  </thead>\n",
       "  <tbody>\n",
       "    <tr>\n",
       "      <td>count</td>\n",
       "      <td>6.000000</td>\n",
       "      <td>6.000000</td>\n",
       "      <td>6.000000</td>\n",
       "      <td>6.000000</td>\n",
       "    </tr>\n",
       "    <tr>\n",
       "      <td>mean</td>\n",
       "      <td>0.738262</td>\n",
       "      <td>-0.047565</td>\n",
       "      <td>0.635947</td>\n",
       "      <td>0.245242</td>\n",
       "    </tr>\n",
       "    <tr>\n",
       "      <td>std</td>\n",
       "      <td>1.322524</td>\n",
       "      <td>1.084372</td>\n",
       "      <td>1.232726</td>\n",
       "      <td>1.261086</td>\n",
       "    </tr>\n",
       "    <tr>\n",
       "      <td>min</td>\n",
       "      <td>-0.963206</td>\n",
       "      <td>-0.998623</td>\n",
       "      <td>-1.029135</td>\n",
       "      <td>-1.673582</td>\n",
       "    </tr>\n",
       "    <tr>\n",
       "      <td>25%</td>\n",
       "      <td>0.201936</td>\n",
       "      <td>-0.818739</td>\n",
       "      <td>-0.228145</td>\n",
       "      <td>-0.434422</td>\n",
       "    </tr>\n",
       "    <tr>\n",
       "      <td>50%</td>\n",
       "      <td>0.611519</td>\n",
       "      <td>-0.301187</td>\n",
       "      <td>0.677662</td>\n",
       "      <td>0.392006</td>\n",
       "    </tr>\n",
       "    <tr>\n",
       "      <td>75%</td>\n",
       "      <td>0.951823</td>\n",
       "      <td>0.217762</td>\n",
       "      <td>1.702197</td>\n",
       "      <td>1.113063</td>\n",
       "    </tr>\n",
       "    <tr>\n",
       "      <td>max</td>\n",
       "      <td>3.039074</td>\n",
       "      <td>1.916118</td>\n",
       "      <td>1.975864</td>\n",
       "      <td>1.717503</td>\n",
       "    </tr>\n",
       "  </tbody>\n",
       "</table>\n",
       "</div>"
      ],
      "text/plain": [
       "              A         B         C         D\n",
       "count  6.000000  6.000000  6.000000  6.000000\n",
       "mean   0.738262 -0.047565  0.635947  0.245242\n",
       "std    1.322524  1.084372  1.232726  1.261086\n",
       "min   -0.963206 -0.998623 -1.029135 -1.673582\n",
       "25%    0.201936 -0.818739 -0.228145 -0.434422\n",
       "50%    0.611519 -0.301187  0.677662  0.392006\n",
       "75%    0.951823  0.217762  1.702197  1.113063\n",
       "max    3.039074  1.916118  1.975864  1.717503"
      ]
     },
     "execution_count": 20,
     "metadata": {},
     "output_type": "execute_result"
    }
   ],
   "source": [
    "#Step 5) An excellent practice to get a clue about the data is to use describe().\n",
    "#It provides the counts, mean, std, min, max and percentile of the dataset.\n",
    "\n",
    "df.describe()"
   ]
  },
  {
   "cell_type": "code",
   "execution_count": 21,
   "metadata": {},
   "outputs": [
    {
     "data": {
      "text/plain": [
       "2030-01-31    0.088187\n",
       "2030-02-28    3.039074\n",
       "2030-03-31   -0.963206\n",
       "2030-04-30    1.042479\n",
       "2030-05-31    0.679855\n",
       "2030-06-30    0.543184\n",
       "Freq: M, Name: A, dtype: float64"
      ]
     },
     "execution_count": 21,
     "metadata": {},
     "output_type": "execute_result"
    }
   ],
   "source": [
    "# Slice data\n",
    "#The last point of this tutorial is about how to slice a pandas data frame.\n",
    "\n",
    "#You can use the column name to extract data in a particular column.\n",
    "\n",
    "## Slice\n",
    "### Using name\n",
    "df['A']"
   ]
  },
  {
   "cell_type": "code",
   "execution_count": 23,
   "metadata": {},
   "outputs": [
    {
     "data": {
      "text/html": [
       "<div>\n",
       "<style scoped>\n",
       "    .dataframe tbody tr th:only-of-type {\n",
       "        vertical-align: middle;\n",
       "    }\n",
       "\n",
       "    .dataframe tbody tr th {\n",
       "        vertical-align: top;\n",
       "    }\n",
       "\n",
       "    .dataframe thead th {\n",
       "        text-align: right;\n",
       "    }\n",
       "</style>\n",
       "<table border=\"1\" class=\"dataframe\">\n",
       "  <thead>\n",
       "    <tr style=\"text-align: right;\">\n",
       "      <th></th>\n",
       "      <th>A</th>\n",
       "      <th>B</th>\n",
       "    </tr>\n",
       "  </thead>\n",
       "  <tbody>\n",
       "    <tr>\n",
       "      <td>2030-01-31</td>\n",
       "      <td>0.088187</td>\n",
       "      <td>0.309553</td>\n",
       "    </tr>\n",
       "    <tr>\n",
       "      <td>2030-02-28</td>\n",
       "      <td>3.039074</td>\n",
       "      <td>-0.057611</td>\n",
       "    </tr>\n",
       "    <tr>\n",
       "      <td>2030-03-31</td>\n",
       "      <td>-0.963206</td>\n",
       "      <td>1.916118</td>\n",
       "    </tr>\n",
       "    <tr>\n",
       "      <td>2030-04-30</td>\n",
       "      <td>1.042479</td>\n",
       "      <td>-0.544763</td>\n",
       "    </tr>\n",
       "    <tr>\n",
       "      <td>2030-05-31</td>\n",
       "      <td>0.679855</td>\n",
       "      <td>-0.998623</td>\n",
       "    </tr>\n",
       "    <tr>\n",
       "      <td>2030-06-30</td>\n",
       "      <td>0.543184</td>\n",
       "      <td>-0.910065</td>\n",
       "    </tr>\n",
       "  </tbody>\n",
       "</table>\n",
       "</div>"
      ],
      "text/plain": [
       "                   A         B\n",
       "2030-01-31  0.088187  0.309553\n",
       "2030-02-28  3.039074 -0.057611\n",
       "2030-03-31 -0.963206  1.916118\n",
       "2030-04-30  1.042479 -0.544763\n",
       "2030-05-31  0.679855 -0.998623\n",
       "2030-06-30  0.543184 -0.910065"
      ]
     },
     "execution_count": 23,
     "metadata": {},
     "output_type": "execute_result"
    }
   ],
   "source": [
    "#To select multiple columns, you need to use two times the bracket, [[..,..]]\n",
    "\n",
    "#The first pair of bracket means you want to select columns, the second pairs of bracket tells what columns you want to return.\n",
    "\n",
    "df[['A', 'B']]"
   ]
  },
  {
   "cell_type": "code",
   "execution_count": 24,
   "metadata": {},
   "outputs": [
    {
     "data": {
      "text/html": [
       "<div>\n",
       "<style scoped>\n",
       "    .dataframe tbody tr th:only-of-type {\n",
       "        vertical-align: middle;\n",
       "    }\n",
       "\n",
       "    .dataframe tbody tr th {\n",
       "        vertical-align: top;\n",
       "    }\n",
       "\n",
       "    .dataframe thead th {\n",
       "        text-align: right;\n",
       "    }\n",
       "</style>\n",
       "<table border=\"1\" class=\"dataframe\">\n",
       "  <thead>\n",
       "    <tr style=\"text-align: right;\">\n",
       "      <th></th>\n",
       "      <th>A</th>\n",
       "      <th>B</th>\n",
       "      <th>C</th>\n",
       "      <th>D</th>\n",
       "    </tr>\n",
       "  </thead>\n",
       "  <tbody>\n",
       "    <tr>\n",
       "      <td>2030-01-31</td>\n",
       "      <td>0.088187</td>\n",
       "      <td>0.309553</td>\n",
       "      <td>-0.430135</td>\n",
       "      <td>1.331396</td>\n",
       "    </tr>\n",
       "    <tr>\n",
       "      <td>2030-02-28</td>\n",
       "      <td>3.039074</td>\n",
       "      <td>-0.057611</td>\n",
       "      <td>0.377823</td>\n",
       "      <td>1.717503</td>\n",
       "    </tr>\n",
       "    <tr>\n",
       "      <td>2030-03-31</td>\n",
       "      <td>-0.963206</td>\n",
       "      <td>1.916118</td>\n",
       "      <td>1.943762</td>\n",
       "      <td>-0.687879</td>\n",
       "    </tr>\n",
       "  </tbody>\n",
       "</table>\n",
       "</div>"
      ],
      "text/plain": [
       "                   A         B         C         D\n",
       "2030-01-31  0.088187  0.309553 -0.430135  1.331396\n",
       "2030-02-28  3.039074 -0.057611  0.377823  1.717503\n",
       "2030-03-31 -0.963206  1.916118  1.943762 -0.687879"
      ]
     },
     "execution_count": 24,
     "metadata": {},
     "output_type": "execute_result"
    }
   ],
   "source": [
    "#You can slice the rows with :\n",
    "#The code below returns the first three rows\n",
    "\n",
    "### using a slice for row\n",
    "df[0:3]\t"
   ]
  },
  {
   "cell_type": "code",
   "execution_count": 25,
   "metadata": {},
   "outputs": [
    {
     "data": {
      "text/html": [
       "<div>\n",
       "<style scoped>\n",
       "    .dataframe tbody tr th:only-of-type {\n",
       "        vertical-align: middle;\n",
       "    }\n",
       "\n",
       "    .dataframe tbody tr th {\n",
       "        vertical-align: top;\n",
       "    }\n",
       "\n",
       "    .dataframe thead th {\n",
       "        text-align: right;\n",
       "    }\n",
       "</style>\n",
       "<table border=\"1\" class=\"dataframe\">\n",
       "  <thead>\n",
       "    <tr style=\"text-align: right;\">\n",
       "      <th></th>\n",
       "      <th>A</th>\n",
       "      <th>B</th>\n",
       "    </tr>\n",
       "  </thead>\n",
       "  <tbody>\n",
       "    <tr>\n",
       "      <td>2030-01-31</td>\n",
       "      <td>0.088187</td>\n",
       "      <td>0.309553</td>\n",
       "    </tr>\n",
       "    <tr>\n",
       "      <td>2030-02-28</td>\n",
       "      <td>3.039074</td>\n",
       "      <td>-0.057611</td>\n",
       "    </tr>\n",
       "    <tr>\n",
       "      <td>2030-03-31</td>\n",
       "      <td>-0.963206</td>\n",
       "      <td>1.916118</td>\n",
       "    </tr>\n",
       "    <tr>\n",
       "      <td>2030-04-30</td>\n",
       "      <td>1.042479</td>\n",
       "      <td>-0.544763</td>\n",
       "    </tr>\n",
       "    <tr>\n",
       "      <td>2030-05-31</td>\n",
       "      <td>0.679855</td>\n",
       "      <td>-0.998623</td>\n",
       "    </tr>\n",
       "    <tr>\n",
       "      <td>2030-06-30</td>\n",
       "      <td>0.543184</td>\n",
       "      <td>-0.910065</td>\n",
       "    </tr>\n",
       "  </tbody>\n",
       "</table>\n",
       "</div>"
      ],
      "text/plain": [
       "                   A         B\n",
       "2030-01-31  0.088187  0.309553\n",
       "2030-02-28  3.039074 -0.057611\n",
       "2030-03-31 -0.963206  1.916118\n",
       "2030-04-30  1.042479 -0.544763\n",
       "2030-05-31  0.679855 -0.998623\n",
       "2030-06-30  0.543184 -0.910065"
      ]
     },
     "execution_count": 25,
     "metadata": {},
     "output_type": "execute_result"
    }
   ],
   "source": [
    "# The loc function is used to select columns by names. \n",
    "#As usual, the values before the coma stand for the rows and after refer to the column. \n",
    "#You need to use the brackets to select more than one column.\n",
    "\n",
    "## Multi col\n",
    "df.loc[:,['A','B']]\t"
   ]
  },
  {
   "cell_type": "code",
   "execution_count": 26,
   "metadata": {},
   "outputs": [
    {
     "data": {
      "text/html": [
       "<div>\n",
       "<style scoped>\n",
       "    .dataframe tbody tr th:only-of-type {\n",
       "        vertical-align: middle;\n",
       "    }\n",
       "\n",
       "    .dataframe tbody tr th {\n",
       "        vertical-align: top;\n",
       "    }\n",
       "\n",
       "    .dataframe thead th {\n",
       "        text-align: right;\n",
       "    }\n",
       "</style>\n",
       "<table border=\"1\" class=\"dataframe\">\n",
       "  <thead>\n",
       "    <tr style=\"text-align: right;\">\n",
       "      <th></th>\n",
       "      <th>A</th>\n",
       "      <th>B</th>\n",
       "    </tr>\n",
       "  </thead>\n",
       "  <tbody>\n",
       "    <tr>\n",
       "      <td>2030-01-31</td>\n",
       "      <td>0.088187</td>\n",
       "      <td>0.309553</td>\n",
       "    </tr>\n",
       "    <tr>\n",
       "      <td>2030-02-28</td>\n",
       "      <td>3.039074</td>\n",
       "      <td>-0.057611</td>\n",
       "    </tr>\n",
       "    <tr>\n",
       "      <td>2030-03-31</td>\n",
       "      <td>-0.963206</td>\n",
       "      <td>1.916118</td>\n",
       "    </tr>\n",
       "    <tr>\n",
       "      <td>2030-04-30</td>\n",
       "      <td>1.042479</td>\n",
       "      <td>-0.544763</td>\n",
       "    </tr>\n",
       "    <tr>\n",
       "      <td>2030-05-31</td>\n",
       "      <td>0.679855</td>\n",
       "      <td>-0.998623</td>\n",
       "    </tr>\n",
       "    <tr>\n",
       "      <td>2030-06-30</td>\n",
       "      <td>0.543184</td>\n",
       "      <td>-0.910065</td>\n",
       "    </tr>\n",
       "  </tbody>\n",
       "</table>\n",
       "</div>"
      ],
      "text/plain": [
       "                   A         B\n",
       "2030-01-31  0.088187  0.309553\n",
       "2030-02-28  3.039074 -0.057611\n",
       "2030-03-31 -0.963206  1.916118\n",
       "2030-04-30  1.042479 -0.544763\n",
       "2030-05-31  0.679855 -0.998623\n",
       "2030-06-30  0.543184 -0.910065"
      ]
     },
     "execution_count": 26,
     "metadata": {},
     "output_type": "execute_result"
    }
   ],
   "source": [
    "# There is another method to select multiple rows and columns in Pandas. \n",
    "#You can use iloc[]. This method uses the index instead of the columns name. \n",
    "#The code below returns the same data frame as above\n",
    "\n",
    "df.iloc[:, :2]"
   ]
  },
  {
   "cell_type": "code",
   "execution_count": 27,
   "metadata": {},
   "outputs": [
    {
     "data": {
      "text/html": [
       "<div>\n",
       "<style scoped>\n",
       "    .dataframe tbody tr th:only-of-type {\n",
       "        vertical-align: middle;\n",
       "    }\n",
       "\n",
       "    .dataframe tbody tr th {\n",
       "        vertical-align: top;\n",
       "    }\n",
       "\n",
       "    .dataframe thead th {\n",
       "        text-align: right;\n",
       "    }\n",
       "</style>\n",
       "<table border=\"1\" class=\"dataframe\">\n",
       "  <thead>\n",
       "    <tr style=\"text-align: right;\">\n",
       "      <th></th>\n",
       "      <th>B</th>\n",
       "      <th>D</th>\n",
       "    </tr>\n",
       "  </thead>\n",
       "  <tbody>\n",
       "    <tr>\n",
       "      <td>2030-01-31</td>\n",
       "      <td>0.309553</td>\n",
       "      <td>1.331396</td>\n",
       "    </tr>\n",
       "    <tr>\n",
       "      <td>2030-02-28</td>\n",
       "      <td>-0.057611</td>\n",
       "      <td>1.717503</td>\n",
       "    </tr>\n",
       "    <tr>\n",
       "      <td>2030-03-31</td>\n",
       "      <td>1.916118</td>\n",
       "      <td>-0.687879</td>\n",
       "    </tr>\n",
       "    <tr>\n",
       "      <td>2030-04-30</td>\n",
       "      <td>-0.544763</td>\n",
       "      <td>-1.673582</td>\n",
       "    </tr>\n",
       "    <tr>\n",
       "      <td>2030-05-31</td>\n",
       "      <td>-0.998623</td>\n",
       "      <td>0.325947</td>\n",
       "    </tr>\n",
       "    <tr>\n",
       "      <td>2030-06-30</td>\n",
       "      <td>-0.910065</td>\n",
       "      <td>0.458066</td>\n",
       "    </tr>\n",
       "  </tbody>\n",
       "</table>\n",
       "</div>"
      ],
      "text/plain": [
       "                   B         D\n",
       "2030-01-31  0.309553  1.331396\n",
       "2030-02-28 -0.057611  1.717503\n",
       "2030-03-31  1.916118 -0.687879\n",
       "2030-04-30 -0.544763 -1.673582\n",
       "2030-05-31 -0.998623  0.325947\n",
       "2030-06-30 -0.910065  0.458066"
      ]
     },
     "execution_count": 27,
     "metadata": {},
     "output_type": "execute_result"
    }
   ],
   "source": [
    "# Drop a column\n",
    "#You can drop columns using pd.drop()\n",
    "\n",
    "df.drop(columns=['A', 'C'])"
   ]
  },
  {
   "cell_type": "code",
   "execution_count": 29,
   "metadata": {},
   "outputs": [
    {
     "data": {
      "text/html": [
       "<div>\n",
       "<style scoped>\n",
       "    .dataframe tbody tr th:only-of-type {\n",
       "        vertical-align: middle;\n",
       "    }\n",
       "\n",
       "    .dataframe tbody tr th {\n",
       "        vertical-align: top;\n",
       "    }\n",
       "\n",
       "    .dataframe thead th {\n",
       "        text-align: right;\n",
       "    }\n",
       "</style>\n",
       "<table border=\"1\" class=\"dataframe\">\n",
       "  <thead>\n",
       "    <tr style=\"text-align: right;\">\n",
       "      <th></th>\n",
       "      <th>name</th>\n",
       "      <th>Age</th>\n",
       "    </tr>\n",
       "  </thead>\n",
       "  <tbody>\n",
       "    <tr>\n",
       "      <td>0</td>\n",
       "      <td>John</td>\n",
       "      <td>25</td>\n",
       "    </tr>\n",
       "    <tr>\n",
       "      <td>1</td>\n",
       "      <td>Smith</td>\n",
       "      <td>30</td>\n",
       "    </tr>\n",
       "    <tr>\n",
       "      <td>2</td>\n",
       "      <td>Paul</td>\n",
       "      <td>50</td>\n",
       "    </tr>\n",
       "    <tr>\n",
       "      <td>3</td>\n",
       "      <td>Adam</td>\n",
       "      <td>26</td>\n",
       "    </tr>\n",
       "    <tr>\n",
       "      <td>4</td>\n",
       "      <td>Smith</td>\n",
       "      <td>11</td>\n",
       "    </tr>\n",
       "  </tbody>\n",
       "</table>\n",
       "</div>"
      ],
      "text/plain": [
       "    name Age\n",
       "0   John  25\n",
       "1  Smith  30\n",
       "2   Paul  50\n",
       "3   Adam  26\n",
       "4  Smith  11"
      ]
     },
     "execution_count": 29,
     "metadata": {},
     "output_type": "execute_result"
    }
   ],
   "source": [
    "# Concatenation\n",
    "#You can concatenate two DataFrame in Pandas. You can use pd.concat()\n",
    "#First of all, you need to create two DataFrames. So far so good, you are already familiar with dataframe creation\n",
    "\n",
    "import numpy as np\n",
    "df1 = pd.DataFrame({'name': ['John', 'Smith','Paul'],\n",
    "                     'Age': ['25', '30', '50']},\n",
    "                    index=[0, 1, 2])\n",
    "df2 = pd.DataFrame({'name': ['Adam', 'Smith' ],\n",
    "                     'Age': ['26', '11']},\n",
    "                    index=[3, 4])  \n",
    "\n",
    "#Finally, you concatenate the two DataFrame\n",
    "\n",
    "df_concat = pd.concat([df1,df2]) \n",
    "df_concat"
   ]
  },
  {
   "cell_type": "code",
   "execution_count": 30,
   "metadata": {},
   "outputs": [
    {
     "data": {
      "text/html": [
       "<div>\n",
       "<style scoped>\n",
       "    .dataframe tbody tr th:only-of-type {\n",
       "        vertical-align: middle;\n",
       "    }\n",
       "\n",
       "    .dataframe tbody tr th {\n",
       "        vertical-align: top;\n",
       "    }\n",
       "\n",
       "    .dataframe thead th {\n",
       "        text-align: right;\n",
       "    }\n",
       "</style>\n",
       "<table border=\"1\" class=\"dataframe\">\n",
       "  <thead>\n",
       "    <tr style=\"text-align: right;\">\n",
       "      <th></th>\n",
       "      <th>name</th>\n",
       "      <th>Age</th>\n",
       "    </tr>\n",
       "  </thead>\n",
       "  <tbody>\n",
       "    <tr>\n",
       "      <td>0</td>\n",
       "      <td>John</td>\n",
       "      <td>25</td>\n",
       "    </tr>\n",
       "    <tr>\n",
       "      <td>1</td>\n",
       "      <td>Smith</td>\n",
       "      <td>30</td>\n",
       "    </tr>\n",
       "    <tr>\n",
       "      <td>2</td>\n",
       "      <td>Paul</td>\n",
       "      <td>50</td>\n",
       "    </tr>\n",
       "    <tr>\n",
       "      <td>3</td>\n",
       "      <td>Adam</td>\n",
       "      <td>26</td>\n",
       "    </tr>\n",
       "  </tbody>\n",
       "</table>\n",
       "</div>"
      ],
      "text/plain": [
       "    name Age\n",
       "0   John  25\n",
       "1  Smith  30\n",
       "2   Paul  50\n",
       "3   Adam  26"
      ]
     },
     "execution_count": 30,
     "metadata": {},
     "output_type": "execute_result"
    }
   ],
   "source": [
    "# Drop_duplicates\n",
    "#If a dataset can contain duplicates information use, `drop_duplicates` is an easy to exclude duplicate rows. \n",
    "#You can see that `df_concat` has a duplicate observation, `Smith` appears twice in the column `name.`\n",
    "\n",
    "df_concat.drop_duplicates('name')"
   ]
  },
  {
   "cell_type": "code",
   "execution_count": 31,
   "metadata": {},
   "outputs": [
    {
     "data": {
      "text/html": [
       "<div>\n",
       "<style scoped>\n",
       "    .dataframe tbody tr th:only-of-type {\n",
       "        vertical-align: middle;\n",
       "    }\n",
       "\n",
       "    .dataframe tbody tr th {\n",
       "        vertical-align: top;\n",
       "    }\n",
       "\n",
       "    .dataframe thead th {\n",
       "        text-align: right;\n",
       "    }\n",
       "</style>\n",
       "<table border=\"1\" class=\"dataframe\">\n",
       "  <thead>\n",
       "    <tr style=\"text-align: right;\">\n",
       "      <th></th>\n",
       "      <th>name</th>\n",
       "      <th>Age</th>\n",
       "    </tr>\n",
       "  </thead>\n",
       "  <tbody>\n",
       "    <tr>\n",
       "      <td>4</td>\n",
       "      <td>Smith</td>\n",
       "      <td>11</td>\n",
       "    </tr>\n",
       "    <tr>\n",
       "      <td>0</td>\n",
       "      <td>John</td>\n",
       "      <td>25</td>\n",
       "    </tr>\n",
       "    <tr>\n",
       "      <td>3</td>\n",
       "      <td>Adam</td>\n",
       "      <td>26</td>\n",
       "    </tr>\n",
       "    <tr>\n",
       "      <td>1</td>\n",
       "      <td>Smith</td>\n",
       "      <td>30</td>\n",
       "    </tr>\n",
       "    <tr>\n",
       "      <td>2</td>\n",
       "      <td>Paul</td>\n",
       "      <td>50</td>\n",
       "    </tr>\n",
       "  </tbody>\n",
       "</table>\n",
       "</div>"
      ],
      "text/plain": [
       "    name Age\n",
       "4  Smith  11\n",
       "0   John  25\n",
       "3   Adam  26\n",
       "1  Smith  30\n",
       "2   Paul  50"
      ]
     },
     "execution_count": 31,
     "metadata": {},
     "output_type": "execute_result"
    }
   ],
   "source": [
    "# Sort values\n",
    "#You can sort value with sort_values\n",
    "\n",
    "df_concat.sort_values('Age')"
   ]
  },
  {
   "cell_type": "code",
   "execution_count": 32,
   "metadata": {},
   "outputs": [
    {
     "data": {
      "text/html": [
       "<div>\n",
       "<style scoped>\n",
       "    .dataframe tbody tr th:only-of-type {\n",
       "        vertical-align: middle;\n",
       "    }\n",
       "\n",
       "    .dataframe tbody tr th {\n",
       "        vertical-align: top;\n",
       "    }\n",
       "\n",
       "    .dataframe thead th {\n",
       "        text-align: right;\n",
       "    }\n",
       "</style>\n",
       "<table border=\"1\" class=\"dataframe\">\n",
       "  <thead>\n",
       "    <tr style=\"text-align: right;\">\n",
       "      <th></th>\n",
       "      <th>Surname</th>\n",
       "      <th>Age_ppl</th>\n",
       "    </tr>\n",
       "  </thead>\n",
       "  <tbody>\n",
       "    <tr>\n",
       "      <td>0</td>\n",
       "      <td>John</td>\n",
       "      <td>25</td>\n",
       "    </tr>\n",
       "    <tr>\n",
       "      <td>1</td>\n",
       "      <td>Smith</td>\n",
       "      <td>30</td>\n",
       "    </tr>\n",
       "    <tr>\n",
       "      <td>2</td>\n",
       "      <td>Paul</td>\n",
       "      <td>50</td>\n",
       "    </tr>\n",
       "    <tr>\n",
       "      <td>3</td>\n",
       "      <td>Adam</td>\n",
       "      <td>26</td>\n",
       "    </tr>\n",
       "    <tr>\n",
       "      <td>4</td>\n",
       "      <td>Smith</td>\n",
       "      <td>11</td>\n",
       "    </tr>\n",
       "  </tbody>\n",
       "</table>\n",
       "</div>"
      ],
      "text/plain": [
       "  Surname Age_ppl\n",
       "0    John      25\n",
       "1   Smith      30\n",
       "2    Paul      50\n",
       "3    Adam      26\n",
       "4   Smith      11"
      ]
     },
     "execution_count": 32,
     "metadata": {},
     "output_type": "execute_result"
    }
   ],
   "source": [
    "# Rename: change of index\n",
    "#You can use rename to rename a column in Pandas. \n",
    "#The first value is the current column name and the second value is the new column name.\n",
    "\n",
    "df_concat.rename(columns={\"name\": \"Surname\", \"Age\": \"Age_ppl\"})"
   ]
  }
 ],
 "metadata": {
  "kernelspec": {
   "display_name": "Python 3",
   "language": "python",
   "name": "python3"
  },
  "language_info": {
   "codemirror_mode": {
    "name": "ipython",
    "version": 3
   },
   "file_extension": ".py",
   "mimetype": "text/x-python",
   "name": "python",
   "nbconvert_exporter": "python",
   "pygments_lexer": "ipython3",
   "version": "3.7.3"
  }
 },
 "nbformat": 4,
 "nbformat_minor": 2
}
